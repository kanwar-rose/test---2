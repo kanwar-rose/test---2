{
 "cells": [
  {
   "cell_type": "markdown",
   "id": "33a4f5c3",
   "metadata": {},
   "source": [
    "# Q1"
   ]
  },
  {
   "cell_type": "code",
   "execution_count": 1,
   "id": "02a668b2",
   "metadata": {},
   "outputs": [],
   "source": [
    "#1. Write a Python Program to count the number of words and tell how many times that word occurs and print that in a dictionary.\n"
   ]
  },
  {
   "cell_type": "code",
   "execution_count": 3,
   "id": "643a2857",
   "metadata": {},
   "outputs": [
    {
     "name": "stdout",
     "output_type": "stream",
     "text": [
      "Nory was a Catholic because her mother was a Catholic,  \t    and Nory's mother was a Catholic because her father was a Catholic,  \t    and her father was a Catholic because his mother was a Catholic,  \t    or had been\n",
      "{'Nory': 1, 'was': 6, 'a': 6, 'Catholic': 3, 'because': 3, 'her': 3, 'mother': 3, 'Catholic,': 3, 'and': 2, \"Nory's\": 1, 'father': 2, 'his': 1, 'or': 1, 'had': 1, 'been': 1}\n"
     ]
    }
   ],
   "source": [
    "string = input()\n",
    "output = dict()\n",
    "words = string.split()\n",
    "for i in words:\n",
    "        if i in output:\n",
    "            output[i] += 1\n",
    "        else:\n",
    "            output[i] = 1\n",
    "print(output)"
   ]
  },
  {
   "cell_type": "markdown",
   "id": "5b322162",
   "metadata": {},
   "source": [
    "# question2"
   ]
  },
  {
   "cell_type": "code",
   "execution_count": 4,
   "id": "3abdd80a",
   "metadata": {},
   "outputs": [],
   "source": [
    "#Input a string and check if its a Pallindrone."
   ]
  },
  {
   "cell_type": "code",
   "execution_count": 7,
   "id": "abee20b7",
   "metadata": {},
   "outputs": [
    {
     "name": "stdout",
     "output_type": "stream",
     "text": [
      "naman\n",
      "Yes , it is a pallindrone string\n"
     ]
    }
   ],
   "source": [
    "def palin(n):\n",
    "    if n == n[::-1]:\n",
    "        print(\"Yes , it is a pallindrone string\")\n",
    "    else:\n",
    "        print(\"no , it is not a pallindrone string\")\n",
    "n = input()\n",
    "palin(n)"
   ]
  },
  {
   "cell_type": "markdown",
   "id": "62edf8a1",
   "metadata": {},
   "source": [
    "# question 3"
   ]
  },
  {
   "cell_type": "code",
   "execution_count": 8,
   "id": "f80eaab1",
   "metadata": {},
   "outputs": [],
   "source": [
    "#Explain what is Overfitting and Underfitting."
   ]
  },
  {
   "cell_type": "markdown",
   "id": "9d435315",
   "metadata": {},
   "source": [
    "A ml model is said to be overfitted model when we provide or feed data more than needed or necessary,this started inducing\n",
    "nosiy data and inaccurate values in the data. As a result of this efficiency and accuracy of model decreases.\n",
    "\n",
    "A machine learning algorithm is said to have underfitting when it cannot capture the underlying trend of the data., underfitting occurs when the model or the algorithm does not fit the data well enough."
   ]
  },
  {
   "cell_type": "markdown",
   "id": "343437cc",
   "metadata": {},
   "source": [
    "# question 4"
   ]
  },
  {
   "cell_type": "code",
   "execution_count": 9,
   "id": "2b5a811d",
   "metadata": {},
   "outputs": [],
   "source": [
    "#Explain the types of Preprocessing done before feeding to the ML algorithm."
   ]
  },
  {
   "cell_type": "markdown",
   "id": "2a555c11",
   "metadata": {},
   "source": [
    "Basically preprocessing means transformation of raw data into understandable format.As real world data is incomplete and we cannot feed that data to model that will cause error thats why preprocessing is necessary. Following are the typed of preprocessing-\n",
    "1. Data cleaning - data can be noisy and have inaccurate values or null values hence DATA CLEANING  is the technique to fill in missing values, smooth out noise while identifying outliers, and correct inconsistencies in the data.\n",
    "2. Data Integration - combining of data from multiple sources into a coherent data store.\n",
    "3. Data Transformation - it includes Normalisation , Discretization,Attribute Selection etc\n",
    "4. Data Reduction - While working with huge volume of data, analysis became harder in such cases. In order to get rid of this, we uses data reduction technique. It aims to increase the storage efficiency \n"
   ]
  },
  {
   "cell_type": "markdown",
   "id": "ebd624ad",
   "metadata": {},
   "source": [
    "# question 5"
   ]
  },
  {
   "cell_type": "code",
   "execution_count": 13,
   "id": "9eed7358",
   "metadata": {},
   "outputs": [],
   "source": [
    "#Explain the steps in a ML project lifecycle."
   ]
  },
  {
   "cell_type": "markdown",
   "id": "1ab221cd",
   "metadata": {},
   "source": [
    "Machine learning life cycle involves the following steps:-\n",
    "\n",
    "1.Gathering Data - In this step, we need to identify the different data sources, as data can be collected from various\n",
    "                   sources such as files, database, internt etc. The more will be the data, the more accurate will be \n",
    "                   the prediction.\n",
    "2.Data preparation - Data preparation is a step where we put our data into a suitable place and prepare it to use in our \n",
    "                     machine learning training.\n",
    "3.Data Wrangling - It  is the process of cleaning and converting raw data into a useable format.\n",
    "4.Analyse Data - The aim of this step is to build a machine learning model to analyze the data using various analytical techniques\n",
    "                 and review the outcome.\n",
    "5.Train the model - IN this we use datasets to train the model using various ml algorithms. Training a model is required so\n",
    "                    that it can understand the various patterns, rules, and, features.\n",
    "6.Test the model - for checking accuracy of our model by providing a test dataset to it.\n",
    "7.Deployment - This is the last step of ml project lifecycle .If the above-prepared model is producing an accurate result as per our\n",
    "               requirement then we deploy the model in the real system."
   ]
  },
  {
   "cell_type": "code",
   "execution_count": null,
   "id": "335b0000",
   "metadata": {},
   "outputs": [],
   "source": []
  }
 ],
 "metadata": {
  "kernelspec": {
   "display_name": "Python 3",
   "language": "python",
   "name": "python3"
  },
  "language_info": {
   "codemirror_mode": {
    "name": "ipython",
    "version": 3
   },
   "file_extension": ".py",
   "mimetype": "text/x-python",
   "name": "python",
   "nbconvert_exporter": "python",
   "pygments_lexer": "ipython3",
   "version": "3.8.8"
  }
 },
 "nbformat": 4,
 "nbformat_minor": 5
}
